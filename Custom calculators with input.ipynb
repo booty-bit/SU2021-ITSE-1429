{
  "nbformat": 4,
  "nbformat_minor": 0,
  "metadata": {
    "colab": {
      "name": "Untitled6.ipynb",
      "provenance": [],
      "authorship_tag": "ABX9TyMA85B3dYEzD7jmI0kZXSPn",
      "include_colab_link": true
    },
    "kernelspec": {
      "name": "python3",
      "display_name": "Python 3"
    },
    "language_info": {
      "name": "python"
    }
  },
  "cells": [
    {
      "cell_type": "markdown",
      "metadata": {
        "id": "view-in-github",
        "colab_type": "text"
      },
      "source": [
        "<a href=\"https://colab.research.google.com/github/booty-bit/SU2021-ITSE-1429/blob/main/Custom%20calculators%20with%20input.ipynb\" target=\"_parent\"><img src=\"https://colab.research.google.com/assets/colab-badge.svg\" alt=\"Open In Colab\"/></a>"
      ]
    },
    {
      "cell_type": "code",
      "metadata": {
        "colab": {
          "base_uri": "https://localhost:8080/"
        },
        "id": "pgEZUAfynzsj",
        "outputId": "62bba8b4-6982-494f-e84b-49b450ddcb49"
      },
      "source": [
        "Fahrenheit = float(input(\"enter temperature in Fahrenheit: \"))\n",
        "Celsius = (Fahrenheit - 32) * 5/9\n",
        "print('%.2f fahrenheit is: %.2f Celsius' %(Fahrenheit, Celsius))\n",
        "Fahrenheit = float(input(\"enter temperature in Fahrenheit: \"))\n",
        "Celsius = (Fahrenheit - 32) * 5/9\n",
        "print('%.2f fahrenheit is: %.2f Celsius' %(Fahrenheit, Celsius))\n",
        "print(\"nobody expects the spanish inquisition\")\n",
        "print(\"okay now for the area of a trapezoid\")\n",
        "a=int (input(\"Enter side 1: \"))\n",
        "b=int (input(\"Enter side 2: \"))\n",
        "h=int (input(\"Enter the vertical height: \"))\n",
        "c=(a+b)/2\n",
        "area=c*h\n",
        "print(\"The area is: \", area)"
      ],
      "execution_count": 6,
      "outputs": [
        {
          "output_type": "stream",
          "text": [
            "enter temperature in Fahrenheit: 89\n",
            "89.00 fahrenheit is: 31.67 Celsius\n",
            "enter temperature in Fahrenheit: 2999\n",
            "2999.00 fahrenheit is: 1648.33 Celsius\n",
            "nobody expects the spanish inquisition\n",
            "okay now for the area of a trapezoid\n",
            "Enter side 1: 12\n",
            "Enter side 2: 10\n",
            "Enter the vertical height: 7\n",
            "The area is:  77.0\n"
          ],
          "name": "stdout"
        }
      ]
    }
  ]
}