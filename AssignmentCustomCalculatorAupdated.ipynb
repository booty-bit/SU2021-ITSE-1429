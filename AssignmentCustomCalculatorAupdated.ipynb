{
  "nbformat": 4,
  "nbformat_minor": 0,
  "metadata": {
    "colab": {
      "name": "AssignmentCustomCalculatorAupdated.ipynb",
      "provenance": [],
      "authorship_tag": "ABX9TyOvq26nI1+DdvBe4mcItDrP",
      "include_colab_link": true
    },
    "kernelspec": {
      "name": "python3",
      "display_name": "Python 3"
    },
    "language_info": {
      "name": "python"
    }
  },
  "cells": [
    {
      "cell_type": "markdown",
      "metadata": {
        "id": "view-in-github",
        "colab_type": "text"
      },
      "source": [
        "<a href=\"https://colab.research.google.com/github/booty-bit/SU2021-ITSE-1429/blob/main/AssignmentCustomCalculatorAupdated.ipynb\" target=\"_parent\"><img src=\"https://colab.research.google.com/assets/colab-badge.svg\" alt=\"Open In Colab\"/></a>"
      ]
    },
    {
      "cell_type": "code",
      "metadata": {
        "colab": {
          "base_uri": "https://localhost:8080/"
        },
        "id": "OOTUZehtyKiJ",
        "outputId": "b30a5bcd-8f53-4bf6-ab6e-86cf20181837"
      },
      "source": [
        "fahrenheit = float(input(\"Enter temperature in fahrenheit: \"))\n",
        "celsius = (fahrenheit - 32) * 5/9\n",
        "print('the temperature in Celsius is: %0.1f Celsius' %(celsius))"
      ],
      "execution_count": 5,
      "outputs": [
        {
          "output_type": "stream",
          "text": [
            "Enter temperature in fahrenheit: 32\n",
            "the temperature in Celsius is: 0.0 Celsius\n"
          ],
          "name": "stdout"
        }
      ]
    }
  ]
}