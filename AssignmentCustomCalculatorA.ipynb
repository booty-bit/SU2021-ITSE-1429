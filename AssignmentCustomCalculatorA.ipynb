{
  "nbformat": 4,
  "nbformat_minor": 0,
  "metadata": {
    "colab": {
      "name": "AssignmentCustomCalculatorA.ipynb",
      "provenance": [],
      "authorship_tag": "ABX9TyN7edgnf68Qd4Uke6L5x6qz",
      "include_colab_link": true
    },
    "kernelspec": {
      "name": "python3",
      "display_name": "Python 3"
    },
    "language_info": {
      "name": "python"
    }
  },
  "cells": [
    {
      "cell_type": "markdown",
      "metadata": {
        "id": "view-in-github",
        "colab_type": "text"
      },
      "source": [
        "<a href=\"https://colab.research.google.com/github/booty-bit/SU2021-ITSE-1429/blob/main/AssignmentCustomCalculatorA.ipynb\" target=\"_parent\"><img src=\"https://colab.research.google.com/assets/colab-badge.svg\" alt=\"Open In Colab\"/></a>"
      ]
    },
    {
      "cell_type": "code",
      "metadata": {
        "colab": {
          "base_uri": "https://localhost:8080/"
        },
        "id": "TL1852SrzrEW",
        "outputId": "ea2c7c15-b2d7-46ad-bbee-14853068c900"
      },
      "source": [
        "Fahrenheit = float(input(\"enter temperature in Fahrenheit: \"))\n",
        "Celsius = (Fahrenheit - 32) * 5/9\n",
        "print('%.2f fahrenheit is: %.2f Celsius' %(Fahrenheit, Celsius))\n",
        "Celsius = float(input(\"enter temperature in celsius: \"))\n",
        "Fahrenheit = (Celsius * 9/5) + 32\n",
        "print('%.2f fahrenheit is: %0.2f Celsius' %(Fahrenheit, Celsius))"
      ],
      "execution_count": 7,
      "outputs": [
        {
          "output_type": "stream",
          "text": [
            "enter temperature in Fahrenheit: 32\n",
            "32.00 fahrenheit is: 0.00 Celsius\n",
            "enter temperature in celsius: 0\n",
            "32.00 fahrenheit is: 0.00 Celsius\n"
          ],
          "name": "stdout"
        }
      ]
    }
  ]
}