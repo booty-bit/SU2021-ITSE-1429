{
  "nbformat": 4,
  "nbformat_minor": 0,
  "metadata": {
    "colab": {
      "name": "BuildACalculator.ipynb",
      "provenance": [],
      "authorship_tag": "ABX9TyPD30dz4/ZoO3tUnXENwmoZ",
      "include_colab_link": true
    },
    "kernelspec": {
      "name": "python3",
      "display_name": "Python 3"
    },
    "language_info": {
      "name": "python"
    }
  },
  "cells": [
    {
      "cell_type": "markdown",
      "metadata": {
        "id": "view-in-github",
        "colab_type": "text"
      },
      "source": [
        "<a href=\"https://colab.research.google.com/github/booty-bit/SU2021-ITSE-1429/blob/main/BuildACalculator.ipynb\" target=\"_parent\"><img src=\"https://colab.research.google.com/assets/colab-badge.svg\" alt=\"Open In Colab\"/></a>"
      ]
    },
    {
      "cell_type": "code",
      "metadata": {
        "colab": {
          "base_uri": "https://localhost:8080/"
        },
        "id": "woMyISnTofWf",
        "outputId": "21fdd74f-072c-4abc-b7f1-953ff0af5784"
      },
      "source": [
        "def plus(num1,num2):\n",
        "  print(num1+num2)\n",
        "  return \n",
        "\n",
        "def minus(num1,num2):\n",
        "  print(num1-num2)\n",
        "  return \n",
        "\n",
        "def times(num1,num2):\n",
        "  print(num1*num2)\n",
        "  return \n",
        "\n",
        "def conquer(num1,num2):\n",
        "  print(num1/num2)\n",
        "  return \n",
        "\n",
        "num1=int(input(\"First value: \"))\n",
        "num2=int(input(\"Second value: \"))\n",
        "\n",
        "choice=input(\n",
        "\"\"\"\n",
        "select your function: \n",
        "a. Add\n",
        "b. Subtract\n",
        "c. Multiply\n",
        "d. Divide\n",
        "\"\"\")\n",
        "\n",
        "if choice == \"a\":\n",
        "  print(\"Answer is: \", end=\"\")\n",
        "  plus(num1, num2)\n",
        "\n",
        "if choice == \"b\":\n",
        "  print(\"Answer is: \", end=\"\")\n",
        "  minus(num1, num2)\n",
        "\n",
        "if choice == \"c\":\n",
        "  print(\"Answer is: \", end=\"\")\n",
        "  times(num1, num2)\n",
        "\n",
        "if choice == \"d\":\n",
        "  print(\"Answer is: \", end=\"\")\n",
        "  conquer(num1, num2)\n"
      ],
      "execution_count": 60,
      "outputs": [
        {
          "output_type": "stream",
          "text": [
            "First value: 10\n",
            "Second value: 5\n",
            "\n",
            "select your function: \n",
            "a. Add\n",
            "b. Subtract\n",
            "c. Multiply\n",
            "d. Divide\n",
            "d\n",
            "Answer is: 2.0\n"
          ],
          "name": "stdout"
        }
      ]
    },
    {
      "cell_type": "code",
      "metadata": {
        "id": "Byz2qfTC2nFf"
      },
      "source": [
        ""
      ],
      "execution_count": null,
      "outputs": []
    }
  ]
}