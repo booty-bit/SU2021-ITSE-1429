{
  "nbformat": 4,
  "nbformat_minor": 0,
  "metadata": {
    "colab": {
      "name": "TheMagician.ipynb",
      "provenance": [],
      "authorship_tag": "ABX9TyOAGbUxXVr0gvlo8rmMVT/E",
      "include_colab_link": true
    },
    "kernelspec": {
      "name": "python3",
      "display_name": "Python 3"
    },
    "language_info": {
      "name": "python"
    }
  },
  "cells": [
    {
      "cell_type": "markdown",
      "metadata": {
        "id": "view-in-github",
        "colab_type": "text"
      },
      "source": [
        "<a href=\"https://colab.research.google.com/github/booty-bit/SU2021-ITSE-1429/blob/main/TheMagician.ipynb\" target=\"_parent\"><img src=\"https://colab.research.google.com/assets/colab-badge.svg\" alt=\"Open In Colab\"/></a>"
      ]
    },
    {
      "cell_type": "code",
      "metadata": {
        "colab": {
          "base_uri": "https://localhost:8080/"
        },
        "id": "IYFbEYplHSyD",
        "outputId": "aae06b79-d404-4855-de67-b6fd98116b12"
      },
      "source": [
        "import random\n",
        "\n",
        "print(\n",
        "\"\"\"\n",
        "+================================+\n",
        "| Welcome to my game, muggle!    |\n",
        "| Enter an integer number from   |\n",
        "| 1 to 10 and guess what number  |\n",
        "| I've picked for you.           |\n",
        "| So, what is the secret number? |\n",
        "+================================+\n",
        "\"\"\")\n",
        "\n",
        "secret_number = 77\n",
        "guess = None\n",
        "\n",
        "while guess != secret_number:\n",
        "  print(\"Enter an integer number from 1 to 10\")\n",
        "  guess = input(\"What is the secret number? \\n\")\n",
        "  if guess.isdigit():\n",
        "    guess = int(guess)\n",
        "\n",
        "  if guess == secret_number:\n",
        "    print(\"\\n77?! Well done, muggle! You are free now. \\n\")\n",
        "  else:\n",
        "    print(\"\\nHa ha! You're stuck in my loop!\\n\")\n",
        "\n",
        "  "
      ],
      "execution_count": 38,
      "outputs": [
        {
          "output_type": "stream",
          "text": [
            "\n",
            "+================================+\n",
            "| Welcome to my game, muggle!    |\n",
            "| Enter an integer number from   |\n",
            "| 1 to 10 and guess what number  |\n",
            "| I've picked for you.           |\n",
            "| So, what is the secret number? |\n",
            "+================================+\n",
            "\n",
            "Enter an integer number from 1 to 10\n",
            "What is the secret number? \n",
            "1\n",
            "\n",
            "Ha ha! You're stuck in my loop!\n",
            "\n",
            "Enter an integer number from 1 to 10\n",
            "What is the secret number? \n",
            "10\n",
            "\n",
            "Ha ha! You're stuck in my loop!\n",
            "\n",
            "Enter an integer number from 1 to 10\n",
            "What is the secret number? \n",
            "77\n",
            "\n",
            "77?! Well done, muggle! You are free now. \n",
            "\n"
          ],
          "name": "stdout"
        }
      ]
    },
    {
      "cell_type": "code",
      "metadata": {
        "id": "CKecHFXyK0uT"
      },
      "source": [
        "\n"
      ],
      "execution_count": null,
      "outputs": []
    }
  ]
}